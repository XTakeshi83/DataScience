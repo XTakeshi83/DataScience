{
 "cells": [
  {
   "attachments": {
    "log2_100-2.png": {
     "image/png": "[encoded data removed]"
    }
   },
   "cell_type": "markdown",
   "metadata": {},
   "source": [
    "## Алгоритм поиска загаданного числа\n",
    "Исходя из условий задачи, известен отрезок, которому принадлежит загаданное число. По правилам игры в случае неудачной попытки результатом является установление отношения порядка между загаданным и предложенным числами.\n",
    "Или другими словами, становится известно: больше ли предложенное число, чем загаданное, или меньше.\n",
    "\n",
    "Данный факт позволяет мысленно разделить исходный интервал на два множества: множество, содержащее загаданное число, и множество, которое его не содержит. Тем самым, позволяя сократить отрезок, содержащий загаданное число. Предложенное число, в свою очередь, в зависимости от отношения порядка становится левым или правым пределом нового отрезка. Для оптимизации алгоритма в качестве предполагаемого числа следует выбирать элемент, являющийся серединой рассматриваемого отрезка. Повторяя данный подход, можно добиться максимальной скорости поиска загаданного числа.\n",
    "\n",
    "## Немного теории\n",
    "Данный подход в научной литературе называется [методом дихотомии или бинарным поиском](https://ru.wikipedia.org/wiki/Двоичный_поиск). Вычислительная сложность этого алгоритма применительно к нашей задаче можно оценить как O(Log(100)). Это означает, что максимальное количество попыток ограничено сверху:\n",
    "![log2_100-2.png](attachment:log2_100-2.png)\n",
    "где **[*x*]** - округление *x* до целого числа в большую сторону.\n",
    "\n",
    "Теоретическая проработанность бинарного поиска позволяет определить среднее количество попыток, требующихся для отгадывания случайного числа от 1 до 100.\n",
    "Исходим из тех соображений, что загаданное число распределено равномерно на отрезке [1, 100]. Следовательно:\n",
    "- вероятность угадать с первой попытки *P(1)=1/100=0.01*, так как в этом случае загаданное число равно 50;\n",
    "- вероятность угадать со второй попытки *P(2)=2/100=0.02*, так как в этом случае имеем два эквивалентных числа;\n",
    "- вероятность угадать с третьей попытки *P(3)=4/100=0.04*, так как в этом случае имеем 4 эквивалентных числа;\n",
    "- вероятность угадать с четвёртой попытки *P(4)=8/100=0.08*, так как в этом случае имеем 8 эквивалентных чисел;\n",
    "- вероятность угадать с пятой попытки *P(5)=16/100=0.16*, так как в этом случае имеем 16 эквивалентных чисел;\n",
    "- вероятность угадать с шестой попытки *P(6)=32/100=0.32*, так как в этом случае имеем 32 эквивалентных числа;\n",
    "- вероятность угадать с седьмой попытки *P(7)=37/100=0.37*, так как в этом случае имеем 37 оставшихся чисел: 100-1-2-4-8-16-32=37.\n",
    "\n",
    "Тогда среднее количество попыток или, другими словами, **математическое ожидание** можно выразить в виде формулы:\n"
   ]
  },
  {
   "attachments": {
    "m_count-3.png": {
     "image/png": "[encoded data removed]"
    }
   },
   "cell_type": "markdown",
   "metadata": {},
   "source": [
    "![m_count-3.png](attachment:m_count-3.png)\n",
    "Давайте сравним результат, полученный аналитическим методом, с практикой :)"
   ]
  },
  {
   "cell_type": "code",
   "execution_count": 6,
   "metadata": {},
   "outputs": [
    {
     "name": "stdout",
     "output_type": "stream",
     "text": [
      "Мой алгоритм угадывает число в среднем за 5 попыток\n"
     ]
    },
    {
     "data": {
      "text/plain": [
       "5"
      ]
     },
     "execution_count": 6,
     "metadata": {},
     "output_type": "execute_result"
    }
   ],
   "source": [
    "import numpy as np\n",
    "\n",
    "\n",
    "def binary_search(number):\n",
    "    '''Функция бинарного поиска загаданного числа'''\n",
    "    count = 1   # счётчик попыток\n",
    "    pivot = 50  # опорный элемент\n",
    "    left = 1    # левый предел\n",
    "    right = 100 # правый предел\n",
    "    \n",
    "    while number!=pivot:\n",
    "        count += 1\n",
    "        if number>pivot: \n",
    "            left = pivot\n",
    "            delta = right - left\n",
    "            pivot += delta//2 + delta%2\n",
    "        elif number<pivot: \n",
    "            right = pivot\n",
    "            delta = right - left\n",
    "            pivot -= delta//2 + delta%2\n",
    "            \n",
    "    return(count) # выход из цикла, если угадали\n",
    "        \n",
    "        \n",
    "def score_game(game_core):\n",
    "    '''Запускаем игру 1000 раз, чтобы узнать, как быстро игра угадывает число'''\n",
    "    count_list = []\n",
    "    np.random.seed(1)  # фиксируем RANDOM SEED, чтобы наш эксперимент был воспроизводим!\n",
    "    random_array = np.random.randint(1, 101, size=1000)\n",
    "    for number in random_array:\n",
    "        count_list.append(game_core(number))\n",
    "    \n",
    "    score = int(np.mean(count_list))\n",
    "    print(f\"Мой алгоритм угадывает число в среднем за {score} попыток\")\n",
    "    \n",
    "    return(score)\n",
    "\n",
    "\n",
    "score_game(binary_search)"
   ]
  },
  {
   "cell_type": "markdown",
   "metadata": {},
   "source": [
    "## Пояснения по программе\n",
    "Вышеуказанный скрипт содержит 2 функции:\n",
    "- функция ```score_game```, в качестве аргумента которой используется другая функция;\n",
    "- функция ```binary_search```, принимающая на вход загаданное число.\n",
    "\n",
    "Определение и назначение функции ```score_game``` практически ничем не отличается от того, что было предложено в обучающих примерах.\n",
    "В свою очередь функция ```binary_search``` является центральной функцией скрипта. Она реализует алгоритм бинарного поиска. В качестве центральных переменных функции используются переменные:\n",
    "- ```count``` - данная переменная является счётчиком, который увеличивается на 1 с каждой неудачной попыткой;\n",
    "- ```pivot``` - переменная, соответствующая опорному элементу (предполагаемому числу), которая в начале алгоритма принимает значение равное половине отрезка - 50;\n",
    "- ```left``` - переменная, соответствующая левой границе интервала поиска;\n",
    "- ```right``` - переменная, соответствующая правой границе интервала поиска.\n",
    "\n",
    "Последовательность поиска загаданного числа осуществляется с помощью цикла ```while```, который выполняется до тех пор, пока выражение ```number!=pivot``` истинно. В теле цикла загаданное число сравнивается с опорным элементом, хранящемся в переменной ```pivot```. Если загаданное число больше, то левая граница отрезка приравнивается значению переменной ```pivot```. В противном случае - правая граница принимает значение опорного элемента. Затем значение опорного элемента обновляется, как середина нового отрезка. Далее, итерация повторяется снова и до тех пор, пока выражение ```number!=pivot``` не станет ложным.\n",
    "\n",
    "Заключительным шагом скрипта является вызов функции ```score_game``` с аргументом ```binary_search```.\n",
    "\n",
    "Данная реализация не претендует на уникальность и новизну ([в интернете много подобных алгоритмов](https://www.geeksforgeeks.org/binary-search/)), но она вполне работоспособна при данной постановке задачи. Тем не менее, алгоритм вполне может быть улучшен путём автоматического расчёта первоначального значения переменной ```pivot```, также можно передавать границы отрезка как параметры функции.. Одним словом - нет предела совершенству!"
   ]
  },
  {
   "attachments": {
    "np1000.png": {
     "image/png": "[encoded data removed]"
    }
   },
   "cell_type": "markdown",
   "metadata": {},
   "source": [
    "## Анализ результатов\n",
    "Первое, на что следует обратить внимание, это константная затравка для генератора случайных чисел: ```np.random.seed(1)```. Скорее всего, это сделано для того, чтобы мы были в равном положении и имели один и тот же случайный список элементов.\n",
    "\n",
    "Дополнительно, как видно из полученных результатов, среднее количество попыток равно 5.\n",
    "Тем не менее, я считаю, что так округлять *нехорошо*. Поскольку в строчке № 33 в переменную ```score``` заносится целое значение от результата фукнции ```np.mean(count_ls)```, используя функцию ```int```. Если вывести непосредственно результат фукнции ```np.mean(count_ls)```, можно получить следующий ответ:\n",
    "![np1000.png](attachment:np1000.png)\n",
    "что скорее ближе к цифре 6, нежели к 5.\n",
    "\n",
    "Увеличивая длину списка ```random_array``` до 10000, получим:"
   ]
  },
  {
   "attachments": {
    "np10000.png": {
     "image/png": "[encoded data removed]"
    }
   },
   "cell_type": "markdown",
   "metadata": {},
   "source": [
    "![np10000.png](attachment:np10000.png)\n",
    "Увеличивая в дальнейшем длину списка ещё в 10 раз, можно получить результат, хорошо согласующийся с аналитическим решением:"
   ]
  },
  {
   "attachments": {
    "np100000.png": {
     "image/png": "[encoded data removed]"
    }
   },
   "cell_type": "markdown",
   "metadata": {},
   "source": [
    "![np100000.png](attachment:np100000.png)\n",
    "\n",
    "Так или иначе, составители курса, полагаю, намеренно сделали округление в меньшую сторону, потому как знают больше нашего. И я надеюсь, что в дальнейшем пойму, зачем так было сделано :)\n",
    "## Спасибо за Внимание!"
   ]
  }
 ],
 "metadata": {
  "kernelspec": {
   "display_name": "Python 3",
   "language": "python",
   "name": "python3"
  },
  "language_info": {
   "codemirror_mode": {
    "name": "ipython",
    "version": 3
   },
   "file_extension": ".py",
   "mimetype": "text/x-python",
   "name": "python",
   "nbconvert_exporter": "python",
   "pygments_lexer": "ipython3",
   "version": "3.8.5"
  }
 },
 "nbformat": 4,
 "nbformat_minor": 4
}
