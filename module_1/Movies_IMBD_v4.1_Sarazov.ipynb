{
 "cells": [
  {
   "cell_type": "code",
   "execution_count": 1,
   "metadata": {
    "_cell_guid": "b1076dfc-b9ad-4769-8c92-a6c4dae69d19",
    "_uuid": "8f2839f25d086af736a60e9eeb907d3b93b6e0e5",
    "colab": {},
    "colab_type": "code",
    "id": "U2D2gTdJVp90"
   },
   "outputs": [],
   "source": [
    "import numpy as np\n",
    "import pandas as pd\n",
    "import seaborn as sns\n",
    "import matplotlib.pyplot as plt\n",
    "from collections import Counter\n",
    "import datetime as dt\n",
    "import itertools"
   ]
  },
  {
   "cell_type": "code",
   "execution_count": 2,
   "metadata": {
    "_cell_guid": "79c7e3d0-c299-4dcb-8224-4455121ee9b0",
    "_uuid": "d629ff2d2480ee46fbb7e2d37f6b5fab8052498a",
    "colab": {},
    "colab_type": "code",
    "id": "oyGfxL3eVp9-",
    "scrolled": true
   },
   "outputs": [
    {
     "data": {
      "text/html": [
       "<div>\n",
       "<style scoped>\n",
       "    .dataframe tbody tr th:only-of-type {\n",
       "        vertical-align: middle;\n",
       "    }\n",
       "\n",
       "    .dataframe tbody tr th {\n",
       "        vertical-align: top;\n",
       "    }\n",
       "\n",
       "    .dataframe thead th {\n",
       "        text-align: right;\n",
       "    }\n",
       "</style>\n",
       "<table border=\"1\" class=\"dataframe\">\n",
       "  <thead>\n",
       "    <tr style=\"text-align: right;\">\n",
       "      <th></th>\n",
       "      <th>imdb_id</th>\n",
       "      <th>budget</th>\n",
       "      <th>revenue</th>\n",
       "      <th>original_title</th>\n",
       "      <th>cast</th>\n",
       "      <th>director</th>\n",
       "      <th>tagline</th>\n",
       "      <th>overview</th>\n",
       "      <th>runtime</th>\n",
       "      <th>genres</th>\n",
       "      <th>production_companies</th>\n",
       "      <th>release_date</th>\n",
       "      <th>vote_average</th>\n",
       "      <th>release_year</th>\n",
       "    </tr>\n",
       "  </thead>\n",
       "  <tbody>\n",
       "    <tr>\n",
       "      <th>600</th>\n",
       "      <td>tt0910970</td>\n",
       "      <td>180000000</td>\n",
       "      <td>521311860</td>\n",
       "      <td>WALLÂ·E</td>\n",
       "      <td>Ben Burtt|Elissa Knight|Jeff Garlin|Fred Willa...</td>\n",
       "      <td>Andrew Stanton</td>\n",
       "      <td>An adventure beyond the ordinar-E.</td>\n",
       "      <td>WALLÂ·E is the last robot left on an Earth tha...</td>\n",
       "      <td>98</td>\n",
       "      <td>Animation|Family</td>\n",
       "      <td>Walt Disney Pictures|Pixar Animation Studios</td>\n",
       "      <td>6/22/2008</td>\n",
       "      <td>7.6</td>\n",
       "      <td>2008</td>\n",
       "    </tr>\n",
       "    <tr>\n",
       "      <th>1044</th>\n",
       "      <td>tt1615065</td>\n",
       "      <td>45000000</td>\n",
       "      <td>47000000</td>\n",
       "      <td>Savages</td>\n",
       "      <td>Blake Lively|Taylor Kitsch|Aaron Taylor-Johnso...</td>\n",
       "      <td>Oliver Stone</td>\n",
       "      <td>Young Beautiful Deadly.</td>\n",
       "      <td>Pot growers Ben and Chon face off against the ...</td>\n",
       "      <td>131</td>\n",
       "      <td>Crime|Drama|Thriller</td>\n",
       "      <td>Ixtlan|Relativity Media|Onda Entertainment</td>\n",
       "      <td>7/6/2012</td>\n",
       "      <td>6.2</td>\n",
       "      <td>2012</td>\n",
       "    </tr>\n",
       "    <tr>\n",
       "      <th>1690</th>\n",
       "      <td>tt0413267</td>\n",
       "      <td>160000000</td>\n",
       "      <td>798958165</td>\n",
       "      <td>Shrek the Third</td>\n",
       "      <td>Mike Myers|Eddie Murphy|Cameron Diaz|Julie And...</td>\n",
       "      <td>Chris Miller|Raman Hui</td>\n",
       "      <td>Who's ready for Thirds?</td>\n",
       "      <td>The King of Far Far Away has died and Shrek an...</td>\n",
       "      <td>93</td>\n",
       "      <td>Fantasy|Adventure|Animation|Comedy|Family</td>\n",
       "      <td>DreamWorks Animation</td>\n",
       "      <td>5/17/2007</td>\n",
       "      <td>5.8</td>\n",
       "      <td>2007</td>\n",
       "    </tr>\n",
       "    <tr>\n",
       "      <th>1758</th>\n",
       "      <td>tt0478134</td>\n",
       "      <td>23000000</td>\n",
       "      <td>29541790</td>\n",
       "      <td>In the Valley of Elah</td>\n",
       "      <td>Tommy Lee Jones|Charlize Theron|Susan Sarandon...</td>\n",
       "      <td>Paul Haggis</td>\n",
       "      <td>Sometimes finding the truth is easier than fac...</td>\n",
       "      <td>A career officer and his wife work with a poli...</td>\n",
       "      <td>124</td>\n",
       "      <td>History|Drama|Thriller|Crime|Mystery</td>\n",
       "      <td>Summit Entertainment|Blackfriars Bridge Films|...</td>\n",
       "      <td>8/31/2007</td>\n",
       "      <td>6.2</td>\n",
       "      <td>2007</td>\n",
       "    </tr>\n",
       "    <tr>\n",
       "      <th>525</th>\n",
       "      <td>tt0268397</td>\n",
       "      <td>25000000</td>\n",
       "      <td>80936232</td>\n",
       "      <td>Jimmy Neutron: Boy Genius</td>\n",
       "      <td>Debi Derryberry|Megan Cavanagh|Mark DeCarlo|Je...</td>\n",
       "      <td>John A. Davis</td>\n",
       "      <td>He may be small, but he's got a big brain!</td>\n",
       "      <td>Jimmy Neutron is a boy genius and way ahead of...</td>\n",
       "      <td>83</td>\n",
       "      <td>Adventure|Fantasy|Animation|Action|Comedy</td>\n",
       "      <td>Nickelodeon Movies|Universal Cartoon Studios|P...</td>\n",
       "      <td>12/21/2001</td>\n",
       "      <td>5.5</td>\n",
       "      <td>2001</td>\n",
       "    </tr>\n",
       "  </tbody>\n",
       "</table>\n",
       "</div>"
      ],
      "text/plain": [
       "        imdb_id     budget    revenue             original_title  \\\n",
       "600   tt0910970  180000000  521311860                    WALLÂ·E   \n",
       "1044  tt1615065   45000000   47000000                    Savages   \n",
       "1690  tt0413267  160000000  798958165            Shrek the Third   \n",
       "1758  tt0478134   23000000   29541790      In the Valley of Elah   \n",
       "525   tt0268397   25000000   80936232  Jimmy Neutron: Boy Genius   \n",
       "\n",
       "                                                   cast  \\\n",
       "600   Ben Burtt|Elissa Knight|Jeff Garlin|Fred Willa...   \n",
       "1044  Blake Lively|Taylor Kitsch|Aaron Taylor-Johnso...   \n",
       "1690  Mike Myers|Eddie Murphy|Cameron Diaz|Julie And...   \n",
       "1758  Tommy Lee Jones|Charlize Theron|Susan Sarandon...   \n",
       "525   Debi Derryberry|Megan Cavanagh|Mark DeCarlo|Je...   \n",
       "\n",
       "                    director  \\\n",
       "600           Andrew Stanton   \n",
       "1044            Oliver Stone   \n",
       "1690  Chris Miller|Raman Hui   \n",
       "1758             Paul Haggis   \n",
       "525            John A. Davis   \n",
       "\n",
       "                                                tagline  \\\n",
       "600                  An adventure beyond the ordinar-E.   \n",
       "1044                            Young Beautiful Deadly.   \n",
       "1690                            Who's ready for Thirds?   \n",
       "1758  Sometimes finding the truth is easier than fac...   \n",
       "525          He may be small, but he's got a big brain!   \n",
       "\n",
       "                                               overview  runtime  \\\n",
       "600   WALLÂ·E is the last robot left on an Earth tha...       98   \n",
       "1044  Pot growers Ben and Chon face off against the ...      131   \n",
       "1690  The King of Far Far Away has died and Shrek an...       93   \n",
       "1758  A career officer and his wife work with a poli...      124   \n",
       "525   Jimmy Neutron is a boy genius and way ahead of...       83   \n",
       "\n",
       "                                         genres  \\\n",
       "600                            Animation|Family   \n",
       "1044                       Crime|Drama|Thriller   \n",
       "1690  Fantasy|Adventure|Animation|Comedy|Family   \n",
       "1758       History|Drama|Thriller|Crime|Mystery   \n",
       "525   Adventure|Fantasy|Animation|Action|Comedy   \n",
       "\n",
       "                                   production_companies release_date  \\\n",
       "600        Walt Disney Pictures|Pixar Animation Studios    6/22/2008   \n",
       "1044         Ixtlan|Relativity Media|Onda Entertainment     7/6/2012   \n",
       "1690                               DreamWorks Animation    5/17/2007   \n",
       "1758  Summit Entertainment|Blackfriars Bridge Films|...    8/31/2007   \n",
       "525   Nickelodeon Movies|Universal Cartoon Studios|P...   12/21/2001   \n",
       "\n",
       "      vote_average  release_year  \n",
       "600            7.6          2008  \n",
       "1044           6.2          2012  \n",
       "1690           5.8          2007  \n",
       "1758           6.2          2007  \n",
       "525            5.5          2001  "
      ]
     },
     "execution_count": 2,
     "metadata": {},
     "output_type": "execute_result"
    }
   ],
   "source": [
    "data = pd.read_csv('movie_bd_v5.csv') # Загружаем данные\n",
    "data.sample(5)                        # Просмотр 5 случайных образцов"
   ]
  },
  {
   "cell_type": "markdown",
   "metadata": {
    "colab_type": "text",
    "id": "DTIt7ezGVp-G"
   },
   "source": [
    "# Предобработка"
   ]
  },
  {
   "cell_type": "code",
   "execution_count": 3,
   "metadata": {
    "colab": {},
    "colab_type": "code",
    "id": "jNb40DwKVp-H"
   },
   "outputs": [],
   "source": [
    "answers = {} # Создадим словарь для ответов\n",
    "\n",
    "data['profit'] = data.revenue - data.budget # Создадим новый столбец - прибыль\n",
    "\n",
    "def my_sort(x):\n",
    "    '''Функция возвращает отсортированный список'''\n",
    "    x.sort()\n",
    "    return x"
   ]
  },
  {
   "cell_type": "code",
   "execution_count": 4,
   "metadata": {
    "scrolled": true
   },
   "outputs": [
    {
     "data": {
      "text/html": [
       "<div>\n",
       "<style scoped>\n",
       "    .dataframe tbody tr th:only-of-type {\n",
       "        vertical-align: middle;\n",
       "    }\n",
       "\n",
       "    .dataframe tbody tr th {\n",
       "        vertical-align: top;\n",
       "    }\n",
       "\n",
       "    .dataframe thead th {\n",
       "        text-align: right;\n",
       "    }\n",
       "</style>\n",
       "<table border=\"1\" class=\"dataframe\">\n",
       "  <thead>\n",
       "    <tr style=\"text-align: right;\">\n",
       "      <th></th>\n",
       "      <th>budget</th>\n",
       "      <th>revenue</th>\n",
       "      <th>runtime</th>\n",
       "      <th>vote_average</th>\n",
       "      <th>release_year</th>\n",
       "      <th>profit</th>\n",
       "    </tr>\n",
       "  </thead>\n",
       "  <tbody>\n",
       "    <tr>\n",
       "      <th>count</th>\n",
       "      <td>1.889000e+03</td>\n",
       "      <td>1.889000e+03</td>\n",
       "      <td>1889.000000</td>\n",
       "      <td>1889.000000</td>\n",
       "      <td>1889.000000</td>\n",
       "      <td>1.889000e+03</td>\n",
       "    </tr>\n",
       "    <tr>\n",
       "      <th>mean</th>\n",
       "      <td>5.431083e+07</td>\n",
       "      <td>1.553653e+08</td>\n",
       "      <td>109.658549</td>\n",
       "      <td>6.140762</td>\n",
       "      <td>2007.860773</td>\n",
       "      <td>1.010545e+08</td>\n",
       "    </tr>\n",
       "    <tr>\n",
       "      <th>std</th>\n",
       "      <td>4.858721e+07</td>\n",
       "      <td>2.146698e+08</td>\n",
       "      <td>18.017041</td>\n",
       "      <td>0.764763</td>\n",
       "      <td>4.468841</td>\n",
       "      <td>1.830733e+08</td>\n",
       "    </tr>\n",
       "    <tr>\n",
       "      <th>min</th>\n",
       "      <td>5.000000e+06</td>\n",
       "      <td>2.033165e+06</td>\n",
       "      <td>63.000000</td>\n",
       "      <td>3.300000</td>\n",
       "      <td>2000.000000</td>\n",
       "      <td>-1.657101e+08</td>\n",
       "    </tr>\n",
       "    <tr>\n",
       "      <th>25%</th>\n",
       "      <td>2.000000e+07</td>\n",
       "      <td>3.456058e+07</td>\n",
       "      <td>97.000000</td>\n",
       "      <td>5.600000</td>\n",
       "      <td>2004.000000</td>\n",
       "      <td>5.000000e+06</td>\n",
       "    </tr>\n",
       "    <tr>\n",
       "      <th>50%</th>\n",
       "      <td>3.800000e+07</td>\n",
       "      <td>8.361541e+07</td>\n",
       "      <td>107.000000</td>\n",
       "      <td>6.100000</td>\n",
       "      <td>2008.000000</td>\n",
       "      <td>4.400041e+07</td>\n",
       "    </tr>\n",
       "    <tr>\n",
       "      <th>75%</th>\n",
       "      <td>7.200000e+07</td>\n",
       "      <td>1.782626e+08</td>\n",
       "      <td>120.000000</td>\n",
       "      <td>6.600000</td>\n",
       "      <td>2012.000000</td>\n",
       "      <td>1.201842e+08</td>\n",
       "    </tr>\n",
       "    <tr>\n",
       "      <th>max</th>\n",
       "      <td>3.800000e+08</td>\n",
       "      <td>2.781506e+09</td>\n",
       "      <td>214.000000</td>\n",
       "      <td>8.100000</td>\n",
       "      <td>2015.000000</td>\n",
       "      <td>2.544506e+09</td>\n",
       "    </tr>\n",
       "  </tbody>\n",
       "</table>\n",
       "</div>"
      ],
      "text/plain": [
       "             budget       revenue      runtime  vote_average  release_year  \\\n",
       "count  1.889000e+03  1.889000e+03  1889.000000   1889.000000   1889.000000   \n",
       "mean   5.431083e+07  1.553653e+08   109.658549      6.140762   2007.860773   \n",
       "std    4.858721e+07  2.146698e+08    18.017041      0.764763      4.468841   \n",
       "min    5.000000e+06  2.033165e+06    63.000000      3.300000   2000.000000   \n",
       "25%    2.000000e+07  3.456058e+07    97.000000      5.600000   2004.000000   \n",
       "50%    3.800000e+07  8.361541e+07   107.000000      6.100000   2008.000000   \n",
       "75%    7.200000e+07  1.782626e+08   120.000000      6.600000   2012.000000   \n",
       "max    3.800000e+08  2.781506e+09   214.000000      8.100000   2015.000000   \n",
       "\n",
       "             profit  \n",
       "count  1.889000e+03  \n",
       "mean   1.010545e+08  \n",
       "std    1.830733e+08  \n",
       "min   -1.657101e+08  \n",
       "25%    5.000000e+06  \n",
       "50%    4.400041e+07  \n",
       "75%    1.201842e+08  \n",
       "max    2.544506e+09  "
      ]
     },
     "execution_count": 4,
     "metadata": {},
     "output_type": "execute_result"
    }
   ],
   "source": [
    "data.describe() # Очень полезно знать характеристики полей"
   ]
  },
  {
   "cell_type": "code",
   "execution_count": 5,
   "metadata": {
    "scrolled": true
   },
   "outputs": [
    {
     "name": "stdout",
     "output_type": "stream",
     "text": [
      "<class 'pandas.core.frame.DataFrame'>\n",
      "RangeIndex: 1889 entries, 0 to 1888\n",
      "Data columns (total 15 columns):\n",
      " #   Column                Non-Null Count  Dtype  \n",
      "---  ------                --------------  -----  \n",
      " 0   imdb_id               1889 non-null   object \n",
      " 1   budget                1889 non-null   int64  \n",
      " 2   revenue               1889 non-null   int64  \n",
      " 3   original_title        1889 non-null   object \n",
      " 4   cast                  1889 non-null   object \n",
      " 5   director              1889 non-null   object \n",
      " 6   tagline               1889 non-null   object \n",
      " 7   overview              1889 non-null   object \n",
      " 8   runtime               1889 non-null   int64  \n",
      " 9   genres                1889 non-null   object \n",
      " 10  production_companies  1889 non-null   object \n",
      " 11  release_date          1889 non-null   object \n",
      " 12  vote_average          1889 non-null   float64\n",
      " 13  release_year          1889 non-null   int64  \n",
      " 14  profit                1889 non-null   int64  \n",
      "dtypes: float64(1), int64(5), object(9)\n",
      "memory usage: 221.5+ KB\n"
     ]
    }
   ],
   "source": [
    "data.info() # Также полезно знать формат данных DataFrame"
   ]
  },
  {
   "cell_type": "code",
   "execution_count": 6,
   "metadata": {},
   "outputs": [
    {
     "data": {
      "text/html": [
       "<div>\n",
       "<style scoped>\n",
       "    .dataframe tbody tr th:only-of-type {\n",
       "        vertical-align: middle;\n",
       "    }\n",
       "\n",
       "    .dataframe tbody tr th {\n",
       "        vertical-align: top;\n",
       "    }\n",
       "\n",
       "    .dataframe thead th {\n",
       "        text-align: right;\n",
       "    }\n",
       "</style>\n",
       "<table border=\"1\" class=\"dataframe\">\n",
       "  <thead>\n",
       "    <tr style=\"text-align: right;\">\n",
       "      <th></th>\n",
       "      <th>imdb_id</th>\n",
       "      <th>budget</th>\n",
       "      <th>revenue</th>\n",
       "      <th>original_title</th>\n",
       "      <th>cast</th>\n",
       "      <th>director</th>\n",
       "      <th>tagline</th>\n",
       "      <th>overview</th>\n",
       "      <th>runtime</th>\n",
       "      <th>genres</th>\n",
       "      <th>production_companies</th>\n",
       "      <th>release_date</th>\n",
       "      <th>vote_average</th>\n",
       "      <th>release_year</th>\n",
       "      <th>profit</th>\n",
       "    </tr>\n",
       "  </thead>\n",
       "  <tbody>\n",
       "    <tr>\n",
       "      <th>827</th>\n",
       "      <td>tt1124035</td>\n",
       "      <td>12500000</td>\n",
       "      <td>75993061</td>\n",
       "      <td>The Ides of March</td>\n",
       "      <td>Ryan Gosling|George Clooney|Philip Seymour Hof...</td>\n",
       "      <td>George Clooney</td>\n",
       "      <td>Ambition seduces. Power corrupts.</td>\n",
       "      <td>Dirty tricks stand to soil an ambitious young ...</td>\n",
       "      <td>101</td>\n",
       "      <td>Drama</td>\n",
       "      <td>Appian Way|Crystal City Entertainment|Cross Cr...</td>\n",
       "      <td>9/24/2011</td>\n",
       "      <td>6.4</td>\n",
       "      <td>2011</td>\n",
       "      <td>63493061</td>\n",
       "    </tr>\n",
       "    <tr>\n",
       "      <th>1019</th>\n",
       "      <td>tt1646987</td>\n",
       "      <td>150000000</td>\n",
       "      <td>301000000</td>\n",
       "      <td>Wrath of the Titans</td>\n",
       "      <td>Sam Worthington|Liam Neeson|Ralph Fiennes|Rosa...</td>\n",
       "      <td>Jonathan Liebesman</td>\n",
       "      <td>Feel the Wrath</td>\n",
       "      <td>A decade after his heroic defeat of the monstr...</td>\n",
       "      <td>99</td>\n",
       "      <td>Adventure</td>\n",
       "      <td>Legendary Pictures|Thunder Road Pictures|Warne...</td>\n",
       "      <td>3/27/2012</td>\n",
       "      <td>5.5</td>\n",
       "      <td>2012</td>\n",
       "      <td>151000000</td>\n",
       "    </tr>\n",
       "    <tr>\n",
       "      <th>716</th>\n",
       "      <td>tt0410377</td>\n",
       "      <td>37000000</td>\n",
       "      <td>100076342</td>\n",
       "      <td>Nim's Island</td>\n",
       "      <td>Abigail Breslin|Jodie Foster|Gerard Butler|Mic...</td>\n",
       "      <td>Jennifer Flackett|Mark Levin</td>\n",
       "      <td>Your adventure starts here.</td>\n",
       "      <td>A young girl inhabits an isolated island with ...</td>\n",
       "      <td>96</td>\n",
       "      <td>Adventure|Comedy|Family|Fantasy</td>\n",
       "      <td>Walden Media</td>\n",
       "      <td>4/3/2008</td>\n",
       "      <td>5.5</td>\n",
       "      <td>2008</td>\n",
       "      <td>63076342</td>\n",
       "    </tr>\n",
       "    <tr>\n",
       "      <th>1732</th>\n",
       "      <td>tt0423294</td>\n",
       "      <td>85000000</td>\n",
       "      <td>149044513</td>\n",
       "      <td>Surf's Up</td>\n",
       "      <td>Shia LaBeouf|Jeff Bridges|Zooey Deschanel|Jon ...</td>\n",
       "      <td>Ash Brannon|Chris Buck</td>\n",
       "      <td>In the coldest place on Earth, he's the hottes...</td>\n",
       "      <td>Cody is a surfing penguin from Shiverpool who ...</td>\n",
       "      <td>85</td>\n",
       "      <td>Animation|Comedy|Family</td>\n",
       "      <td>Sony Pictures Animation</td>\n",
       "      <td>6/8/2007</td>\n",
       "      <td>5.9</td>\n",
       "      <td>2007</td>\n",
       "      <td>64044513</td>\n",
       "    </tr>\n",
       "    <tr>\n",
       "      <th>725</th>\n",
       "      <td>tt0800369</td>\n",
       "      <td>150000000</td>\n",
       "      <td>444115007</td>\n",
       "      <td>Thor</td>\n",
       "      <td>Chris Hemsworth|Natalie Portman|Tom Hiddleston...</td>\n",
       "      <td>Kenneth Branagh</td>\n",
       "      <td>Two worlds. One hero.</td>\n",
       "      <td>Against his father Odin's will, The Mighty Tho...</td>\n",
       "      <td>115</td>\n",
       "      <td>Adventure|Fantasy|Action</td>\n",
       "      <td>Marvel Studios|Marvel Entertainment</td>\n",
       "      <td>4/21/2011</td>\n",
       "      <td>6.5</td>\n",
       "      <td>2011</td>\n",
       "      <td>294115007</td>\n",
       "    </tr>\n",
       "  </tbody>\n",
       "</table>\n",
       "</div>"
      ],
      "text/plain": [
       "        imdb_id     budget    revenue       original_title  \\\n",
       "827   tt1124035   12500000   75993061    The Ides of March   \n",
       "1019  tt1646987  150000000  301000000  Wrath of the Titans   \n",
       "716   tt0410377   37000000  100076342         Nim's Island   \n",
       "1732  tt0423294   85000000  149044513            Surf's Up   \n",
       "725   tt0800369  150000000  444115007                 Thor   \n",
       "\n",
       "                                                   cast  \\\n",
       "827   Ryan Gosling|George Clooney|Philip Seymour Hof...   \n",
       "1019  Sam Worthington|Liam Neeson|Ralph Fiennes|Rosa...   \n",
       "716   Abigail Breslin|Jodie Foster|Gerard Butler|Mic...   \n",
       "1732  Shia LaBeouf|Jeff Bridges|Zooey Deschanel|Jon ...   \n",
       "725   Chris Hemsworth|Natalie Portman|Tom Hiddleston...   \n",
       "\n",
       "                          director  \\\n",
       "827                 George Clooney   \n",
       "1019            Jonathan Liebesman   \n",
       "716   Jennifer Flackett|Mark Levin   \n",
       "1732        Ash Brannon|Chris Buck   \n",
       "725                Kenneth Branagh   \n",
       "\n",
       "                                                tagline  \\\n",
       "827                   Ambition seduces. Power corrupts.   \n",
       "1019                                     Feel the Wrath   \n",
       "716                         Your adventure starts here.   \n",
       "1732  In the coldest place on Earth, he's the hottes...   \n",
       "725                               Two worlds. One hero.   \n",
       "\n",
       "                                               overview  runtime  \\\n",
       "827   Dirty tricks stand to soil an ambitious young ...      101   \n",
       "1019  A decade after his heroic defeat of the monstr...       99   \n",
       "716   A young girl inhabits an isolated island with ...       96   \n",
       "1732  Cody is a surfing penguin from Shiverpool who ...       85   \n",
       "725   Against his father Odin's will, The Mighty Tho...      115   \n",
       "\n",
       "                               genres  \\\n",
       "827                             Drama   \n",
       "1019                        Adventure   \n",
       "716   Adventure|Comedy|Family|Fantasy   \n",
       "1732          Animation|Comedy|Family   \n",
       "725          Adventure|Fantasy|Action   \n",
       "\n",
       "                                   production_companies release_date  \\\n",
       "827   Appian Way|Crystal City Entertainment|Cross Cr...    9/24/2011   \n",
       "1019  Legendary Pictures|Thunder Road Pictures|Warne...    3/27/2012   \n",
       "716                                        Walden Media     4/3/2008   \n",
       "1732                            Sony Pictures Animation     6/8/2007   \n",
       "725                 Marvel Studios|Marvel Entertainment    4/21/2011   \n",
       "\n",
       "      vote_average  release_year     profit  \n",
       "827            6.4          2011   63493061  \n",
       "1019           5.5          2012  151000000  \n",
       "716            5.5          2008   63076342  \n",
       "1732           5.9          2007   64044513  \n",
       "725            6.5          2011  294115007  "
      ]
     },
     "execution_count": 6,
     "metadata": {},
     "output_type": "execute_result"
    }
   ],
   "source": [
    "data.sample(5) # Просмотр 5 случайных образцов обновлённого DataFrame"
   ]
  },
  {
   "cell_type": "markdown",
   "metadata": {
    "colab_type": "text",
    "id": "YxZaH-nPVp-L"
   },
   "source": [
    "# 1. У какого фильма из списка самый большой бюджет?"
   ]
  },
  {
   "cell_type": "markdown",
   "metadata": {
    "colab_type": "text",
    "id": "Nd-G5gX6Vp-M"
   },
   "source": [
    "Использовать варианты ответов в коде решения запрещено.    \n",
    "Вы думаете и в жизни у вас будут варианты ответов?)\n",
    "\n",
    "*Но если я получил их честно, то считаю, что я могу*\n",
    "*заполнить словарь правильным ответом :)*"
   ]
  },
  {
   "cell_type": "code",
   "execution_count": 7,
   "metadata": {
    "colab": {},
    "colab_type": "code",
    "id": "uVnXAY5RVp-O"
   },
   "outputs": [],
   "source": [
    "answers['1'] = 'Pirates of the Caribbean: On Stranger Tides (tt1298650)'\n",
    "# +\n",
    "# В первом варианте использовалось стандартные подходы фильтрации:\n",
    "#     сравнение поля \"budget\" с максимальном значением по столбцу\n",
    "# Во втором варианте использовалась полезная функция idxmax()\n",
    "\n",
    "# P.S. Не смотрел.."
   ]
  },
  {
   "cell_type": "markdown",
   "metadata": {},
   "source": [
    "ВАРИАНТ 1"
   ]
  },
  {
   "cell_type": "code",
   "execution_count": 8,
   "metadata": {
    "colab": {},
    "colab_type": "code",
    "id": "dZwb3m28Vp-S"
   },
   "outputs": [
    {
     "data": {
      "text/plain": [
       "'Pirates of the Caribbean: On Stranger Tides'"
      ]
     },
     "execution_count": 8,
     "metadata": {},
     "output_type": "execute_result"
    }
   ],
   "source": [
    "# Ключевой момент: фильтрация по максимальному бюджету\n",
    "data[data.budget == data.budget.max()].original_title.iloc[0]"
   ]
  },
  {
   "cell_type": "markdown",
   "metadata": {
    "colab_type": "text",
    "id": "K7L3nbRXVp-X"
   },
   "source": [
    "ВАРИАНТ 2"
   ]
  },
  {
   "cell_type": "code",
   "execution_count": 9,
   "metadata": {
    "colab": {},
    "colab_type": "code",
    "id": "OGaoQI7rVp-X"
   },
   "outputs": [
    {
     "data": {
      "text/plain": [
       "'Pirates of the Caribbean: On Stranger Tides'"
      ]
     },
     "execution_count": 9,
     "metadata": {},
     "output_type": "execute_result"
    }
   ],
   "source": [
    "# Ключевой момент: функция idxmax()\n",
    "data.loc[data.budget.idxmax()].original_title"
   ]
  },
  {
   "cell_type": "markdown",
   "metadata": {
    "colab_type": "text",
    "id": "FNRbbI3vVp-c"
   },
   "source": [
    "# 2. Какой из фильмов самый длительный (в минутах)?"
   ]
  },
  {
   "cell_type": "code",
   "execution_count": 10,
   "metadata": {
    "colab": {},
    "colab_type": "code",
    "id": "vHAoEXNTVp-d"
   },
   "outputs": [],
   "source": [
    "answers['2'] = 'Gods and Generals (tt0279111)'\n",
    "# +\n",
    "# По аналогии в первом варианте использовалось\n",
    "# стандартные подходы фильтрации:\n",
    "#     сравнение поля \"budget\" с максимальном значением по столбцу\n",
    "# А во втором варианте использовалась полезная функция idxmax()\n",
    "\n",
    "# P.S. Аналогично, не смотрел.."
   ]
  },
  {
   "cell_type": "markdown",
   "metadata": {},
   "source": [
    "ВАРИАНТ 1"
   ]
  },
  {
   "cell_type": "code",
   "execution_count": 11,
   "metadata": {
    "colab": {},
    "colab_type": "code",
    "id": "ot-VX2XrVp-g"
   },
   "outputs": [
    {
     "data": {
      "text/plain": [
       "'Gods and Generals'"
      ]
     },
     "execution_count": 11,
     "metadata": {},
     "output_type": "execute_result"
    }
   ],
   "source": [
    "# Ключевой момент: фильтрация по максимальной продолжительности\n",
    "data[data.runtime == data.runtime.max()].original_title.iloc[0]"
   ]
  },
  {
   "cell_type": "markdown",
   "metadata": {},
   "source": [
    "ВАРИАНТ 2"
   ]
  },
  {
   "cell_type": "code",
   "execution_count": 12,
   "metadata": {},
   "outputs": [
    {
     "data": {
      "text/plain": [
       "'Gods and Generals'"
      ]
     },
     "execution_count": 12,
     "metadata": {},
     "output_type": "execute_result"
    }
   ],
   "source": [
    "# Ключевой момент: функция idxmax()\n",
    "data.loc[data.runtime.idxmax()].original_title"
   ]
  },
  {
   "cell_type": "markdown",
   "metadata": {
    "colab_type": "text",
    "id": "bapLlpW8Vp-k"
   },
   "source": [
    "# 3. Какой из фильмов самый короткий (в минутах)?\n",
    "\n",
    "\n",
    "\n"
   ]
  },
  {
   "cell_type": "code",
   "execution_count": 13,
   "metadata": {
    "colab": {},
    "colab_type": "code",
    "id": "YBxaSHuAVp-l"
   },
   "outputs": [],
   "source": [
    "answers['3'] = 'Winnie the Pooh (tt1449283)'\n",
    "# +\n",
    "# Аналогично задачам 1, 2\n",
    "\n",
    "# P.S. Тоже не смотрел этот мультфильм"
   ]
  },
  {
   "cell_type": "markdown",
   "metadata": {},
   "source": [
    "ВАРИАНТ 1"
   ]
  },
  {
   "cell_type": "code",
   "execution_count": 14,
   "metadata": {
    "scrolled": true
   },
   "outputs": [
    {
     "data": {
      "text/plain": [
       "'Winnie the Pooh'"
      ]
     },
     "execution_count": 14,
     "metadata": {},
     "output_type": "execute_result"
    }
   ],
   "source": [
    "# Ключевой момент: фильтрация по минимальной продолжительности\n",
    "data[data.runtime == data.runtime.min()].original_title.iloc[0]"
   ]
  },
  {
   "cell_type": "markdown",
   "metadata": {},
   "source": [
    "ВАРИАНТ 2"
   ]
  },
  {
   "cell_type": "code",
   "execution_count": 15,
   "metadata": {},
   "outputs": [
    {
     "data": {
      "text/plain": [
       "'Winnie the Pooh'"
      ]
     },
     "execution_count": 15,
     "metadata": {},
     "output_type": "execute_result"
    }
   ],
   "source": [
    "# Ключевой момент: функция idxmin()\n",
    "data.loc[data.runtime.idxmin()].original_title"
   ]
  },
  {
   "cell_type": "markdown",
   "metadata": {
    "colab_type": "text",
    "id": "TfQbxbfNVp-p"
   },
   "source": [
    "# 4. Какова средняя длительность фильмов?\n"
   ]
  },
  {
   "cell_type": "code",
   "execution_count": 16,
   "metadata": {
    "colab": {},
    "colab_type": "code",
    "id": "5K6dKZYVVp-q"
   },
   "outputs": [],
   "source": [
    "answers['4'] = 110\n",
    "# +\n",
    "# Для решения задачи используется агрегирующая функция mean()\n",
    "\n",
    "# P.S. По ощущениям так и есть."
   ]
  },
  {
   "cell_type": "code",
   "execution_count": 17,
   "metadata": {},
   "outputs": [
    {
     "data": {
      "text/plain": [
       "110"
      ]
     },
     "execution_count": 17,
     "metadata": {},
     "output_type": "execute_result"
    }
   ],
   "source": [
    "# Ключевой момент: функция вычисления среднего mean()\n",
    "round(data.runtime.mean()) # Для округления используем round()"
   ]
  },
  {
   "cell_type": "markdown",
   "metadata": {
    "colab_type": "text",
    "id": "r5TvbnT_Vp-u"
   },
   "source": [
    "# 5. Каково медианное значение длительности фильмов? "
   ]
  },
  {
   "cell_type": "code",
   "execution_count": 18,
   "metadata": {
    "colab": {},
    "colab_type": "code",
    "id": "iBROplKnVp-v"
   },
   "outputs": [],
   "source": [
    "answers['5'] = 107\n",
    "# +\n",
    "# Для решения задачи используется агрегирующая функция median()\n",
    "# round() использовался для получения целого типа\n",
    "\n",
    "# P.S. Слабо отличается от средненего.."
   ]
  },
  {
   "cell_type": "code",
   "execution_count": 19,
   "metadata": {},
   "outputs": [
    {
     "data": {
      "text/plain": [
       "107"
      ]
     },
     "execution_count": 19,
     "metadata": {},
     "output_type": "execute_result"
    }
   ],
   "source": [
    "# Ключевой момент: функция вычисления среднего медиального median()\n",
    "round(data.runtime.median()) # Для округления используем round()"
   ]
  },
  {
   "cell_type": "markdown",
   "metadata": {
    "colab_type": "text",
    "id": "39P-deDSVp-y"
   },
   "source": [
    "# 6. Какой самый прибыльный фильм?\n",
    "#### Внимание! Здесь и далее под «прибылью» или «убытками» понимается разность между сборами и бюджетом фильма. (прибыль = сборы - бюджет) в нашем датасете это будет (profit = revenue - budget) "
   ]
  },
  {
   "cell_type": "code",
   "execution_count": 20,
   "metadata": {
    "colab": {},
    "colab_type": "code",
    "id": "UYZh4T9WVp-y"
   },
   "outputs": [],
   "source": [
    "answers['6'] = 'Avatar (tt0499549)'\n",
    "# +\n",
    "# Решается по аналогии с предыдущими задачами\n",
    "\n",
    "# P.S. Смотрел предвзято, много позже после выхода\n",
    "# сюжет избит, спецэффекты на высоте, но не цепляет,\n",
    "# как в детстве Т800; и склонен думать, что ГГ - предатель :)"
   ]
  },
  {
   "cell_type": "markdown",
   "metadata": {},
   "source": [
    "ВАРИАНТ 1"
   ]
  },
  {
   "cell_type": "code",
   "execution_count": 21,
   "metadata": {},
   "outputs": [
    {
     "data": {
      "text/plain": [
       "'Avatar'"
      ]
     },
     "execution_count": 21,
     "metadata": {},
     "output_type": "execute_result"
    }
   ],
   "source": [
    "# Ключевой момент: фильтрация по максимальной прибыли\n",
    "data[data.profit == data.profit.max()].original_title.iloc[0]"
   ]
  },
  {
   "cell_type": "markdown",
   "metadata": {},
   "source": [
    "ВАРИАНТ 2"
   ]
  },
  {
   "cell_type": "code",
   "execution_count": 22,
   "metadata": {},
   "outputs": [
    {
     "data": {
      "text/plain": [
       "'Avatar'"
      ]
     },
     "execution_count": 22,
     "metadata": {},
     "output_type": "execute_result"
    }
   ],
   "source": [
    "# Ключевой момент: функция idxmax()\n",
    "data.loc[data.profit.idxmax()].original_title"
   ]
  },
  {
   "cell_type": "markdown",
   "metadata": {
    "colab_type": "text",
    "id": "M99JmIX4Vp-2"
   },
   "source": [
    "# 7. Какой фильм самый убыточный? "
   ]
  },
  {
   "cell_type": "code",
   "execution_count": 23,
   "metadata": {
    "colab": {},
    "colab_type": "code",
    "id": "w-D2m4XPVp-3"
   },
   "outputs": [],
   "source": [
    "answers['7'] = 'The Lone Ranger (tt1210819)'\n",
    "# +\n",
    "# Решается по аналогии с предыдущими задачами\n",
    "\n",
    "# P.S. Не смотрел и этот фильм.."
   ]
  },
  {
   "cell_type": "markdown",
   "metadata": {},
   "source": [
    "ВАРИАНТ 1"
   ]
  },
  {
   "cell_type": "code",
   "execution_count": 24,
   "metadata": {},
   "outputs": [
    {
     "data": {
      "text/plain": [
       "'The Lone Ranger'"
      ]
     },
     "execution_count": 24,
     "metadata": {},
     "output_type": "execute_result"
    }
   ],
   "source": [
    "# Ключевой момент: фильтрация по минимальной прибыли\n",
    "data[data.profit == data.profit.min()].original_title.iloc[0]"
   ]
  },
  {
   "cell_type": "markdown",
   "metadata": {},
   "source": [
    "ВАРИАНТ 2"
   ]
  },
  {
   "cell_type": "code",
   "execution_count": 25,
   "metadata": {},
   "outputs": [
    {
     "data": {
      "text/plain": [
       "'The Lone Ranger'"
      ]
     },
     "execution_count": 25,
     "metadata": {},
     "output_type": "execute_result"
    }
   ],
   "source": [
    "# Ключевой момент: функция idxmin()\n",
    "data.loc[data.profit.idxmin()].original_title"
   ]
  },
  {
   "cell_type": "markdown",
   "metadata": {
    "colab_type": "text",
    "id": "wEOM5ERVVp-6"
   },
   "source": [
    "# 8. У скольких фильмов из датасета объем сборов оказался выше бюджета?"
   ]
  },
  {
   "cell_type": "code",
   "execution_count": 26,
   "metadata": {
    "colab": {},
    "colab_type": "code",
    "id": "y00_7HD6Vp-7"
   },
   "outputs": [],
   "source": [
    "answers['8'] = 1478\n",
    "# +\n",
    "# Вариант 1 путём фильтрации, а затем вызывается\n",
    "# агрегирующая функия count() для одного из столбцов\n",
    "# Вариант 2 некое велосипедостроение, скорее показывает,\n",
    "# что штатные функции Python-a всё ещё strong\n",
    "\n",
    "# P.S. Это ~80%"
   ]
  },
  {
   "cell_type": "markdown",
   "metadata": {},
   "source": [
    "ВАРИАНТ 1"
   ]
  },
  {
   "cell_type": "code",
   "execution_count": 27,
   "metadata": {},
   "outputs": [
    {
     "data": {
      "text/plain": [
       "1478"
      ]
     },
     "execution_count": 27,
     "metadata": {},
     "output_type": "execute_result"
    }
   ],
   "source": [
    "# Ключевой момент: фильтрация по фильмам, где кассовые сборы больше бюджета\n",
    "data[data.revenue > data.budget]['imdb_id'].count()"
   ]
  },
  {
   "cell_type": "markdown",
   "metadata": {},
   "source": [
    "ВАРИАНТ 2"
   ]
  },
  {
   "cell_type": "code",
   "execution_count": 28,
   "metadata": {},
   "outputs": [
    {
     "data": {
      "text/plain": [
       "1478"
      ]
     },
     "execution_count": 28,
     "metadata": {},
     "output_type": "execute_result"
    }
   ],
   "source": [
    "# Ключевой момент: фильтрация по фильмам, где кассовые сборы больше бюджета\n",
    "len(data[data.revenue > data.budget])"
   ]
  },
  {
   "cell_type": "markdown",
   "metadata": {
    "colab_type": "text",
    "id": "xhpspA9KVp_A"
   },
   "source": [
    "# 9. Какой фильм оказался самым кассовым в 2008 году?"
   ]
  },
  {
   "cell_type": "code",
   "execution_count": 29,
   "metadata": {
    "colab": {},
    "colab_type": "code",
    "id": "MoUyQr9RVp_B"
   },
   "outputs": [],
   "source": [
    "answers['9'] = 'The Dark Knight (tt0468569)'\n",
    "# +\n",
    "# Первый вариант использует сортировку по столбцу \"revenue\"\n",
    "# Во втором варианте использовался старый подход (1, 2,..),\n",
    "# но для разнообразия использовал столбец \"release_date\"\n",
    "\n",
    "# P.S. фильм смотрел, показался нудным; как сказал Д. Пучков\n",
    "# всю соль убили переводчики. И чтоб насладиться им, надо\n",
    "# смотреть в оригинале, но на слух я вообще не понимаю :("
   ]
  },
  {
   "cell_type": "markdown",
   "metadata": {},
   "source": [
    "ВАРИАНТ 1"
   ]
  },
  {
   "cell_type": "code",
   "execution_count": 30,
   "metadata": {
    "scrolled": true
   },
   "outputs": [
    {
     "data": {
      "text/plain": [
       "'The Dark Knight'"
      ]
     },
     "execution_count": 30,
     "metadata": {},
     "output_type": "execute_result"
    }
   ],
   "source": [
    "# Ключевой момент: фильтрация+сортировка\n",
    "data.loc[data.release_year.isin([2008])].sort_values(by='revenue', ascending=False)['original_title'].iloc[0]"
   ]
  },
  {
   "cell_type": "code",
   "execution_count": 31,
   "metadata": {},
   "outputs": [
    {
     "data": {
      "text/plain": [
       "'The Dark Knight'"
      ]
     },
     "execution_count": 31,
     "metadata": {},
     "output_type": "execute_result"
    }
   ],
   "source": [
    "# Ключевой момент: фильтрация+idxmax()\n",
    "data_2008 = data[data.release_date.str.contains('2008')].copy() # Копируем отфильтрованный DataFrame\n",
    "data_2008.loc[data_2008.revenue.idxmax()].original_title        # Дальше по аналогии с задачами 1, 2,.."
   ]
  },
  {
   "cell_type": "markdown",
   "metadata": {
    "colab_type": "text",
    "id": "Zi4hDKidVp_F"
   },
   "source": [
    "# 10. Самый убыточный фильм за период с 2012 по 2014 г. (включительно)?\n"
   ]
  },
  {
   "cell_type": "code",
   "execution_count": 32,
   "metadata": {
    "colab": {},
    "colab_type": "code",
    "id": "XqyRmufJVp_F"
   },
   "outputs": [],
   "source": [
    "answers['10'] = 'The Lone Ranger'\n",
    "# +\n",
    "# Решается по аналогии с предыдущими задачей 9\n",
    "# Можно было отфильтровать, как в 1, 2,..\n",
    "\n",
    "# P.S. Понятия не имею о чём он.."
   ]
  },
  {
   "cell_type": "code",
   "execution_count": 33,
   "metadata": {},
   "outputs": [
    {
     "data": {
      "text/plain": [
       "'The Lone Ranger'"
      ]
     },
     "execution_count": 33,
     "metadata": {},
     "output_type": "execute_result"
    }
   ],
   "source": [
    "# Ключевой момент: фильтрация+сортировка\n",
    "data.loc[data.release_year.isin([2012, 2013, 2014])].sort_values(by='profit')['original_title'].iloc[0]"
   ]
  },
  {
   "cell_type": "markdown",
   "metadata": {
    "colab_type": "text",
    "id": "EA7Sa9dkVp_I"
   },
   "source": [
    "# 11. Какого жанра фильмов больше всего?"
   ]
  },
  {
   "cell_type": "code",
   "execution_count": 34,
   "metadata": {},
   "outputs": [],
   "source": [
    "answers['11'] = 'Drama'\n",
    "# +\n",
    "# Два подхода, один стандартный, второй со сводной таблицей\n",
    "# Дополнительно модифицируем столбец \"genres\" функцией str.split()\n",
    "\n",
    "# P.S. Никогда не задумывался об этом"
   ]
  },
  {
   "cell_type": "markdown",
   "metadata": {},
   "source": [
    "ВАРИАНТ 1"
   ]
  },
  {
   "cell_type": "code",
   "execution_count": 35,
   "metadata": {
    "colab": {},
    "colab_type": "code",
    "id": "zsJAwJ8QVp_J"
   },
   "outputs": [
    {
     "data": {
      "text/plain": [
       "'Drama'"
      ]
     },
     "execution_count": 35,
     "metadata": {},
     "output_type": "execute_result"
    }
   ],
   "source": [
    "# Ключевой момент: модификация и раскрытие столбца\n",
    "data.genres.str.split('|').explode().value_counts().index[0] # В одну строчку"
   ]
  },
  {
   "cell_type": "markdown",
   "metadata": {
    "colab_type": "text",
    "id": "Ax6g2C8SVp_M"
   },
   "source": [
    "ВАРИАНТ 2"
   ]
  },
  {
   "cell_type": "code",
   "execution_count": 36,
   "metadata": {
    "colab": {},
    "colab_type": "code",
    "id": "otO3SbrSVp_N"
   },
   "outputs": [
    {
     "data": {
      "text/plain": [
       "'Drama'"
      ]
     },
     "execution_count": 36,
     "metadata": {},
     "output_type": "execute_result"
    }
   ],
   "source": [
    "# Создаём копию DataFrame\n",
    "genres_data = data.copy()\n",
    "\n",
    "# Обновляем поле \"genres\", раскрывая его посредством функции explode()\n",
    "genres_data.genres = data.genres.str.split('|').explode('genres')\n",
    "\n",
    "# Создаём сводную таблицу: в строках жанры, в столбцах идентификаторы фильмов, в качестве значений название фильмов\n",
    "genres_pivot = genres_data.pivot_table(index = 'genres', columns = 'imdb_id', values = 'original_title', aggfunc = 'count', fill_value = 0)\n",
    "\n",
    "# Выбираем максимальную сумму по строкам\n",
    "genres_pivot.sum(axis=1).idxmax()"
   ]
  },
  {
   "cell_type": "markdown",
   "metadata": {
    "colab_type": "text",
    "id": "T9_bPWpkVp_Q"
   },
   "source": [
    "# 12. Фильмы какого жанра чаще всего становятся прибыльными? "
   ]
  },
  {
   "cell_type": "code",
   "execution_count": 37,
   "metadata": {
    "colab": {},
    "colab_type": "code",
    "id": "Tmt8MaK1Vp_R"
   },
   "outputs": [],
   "source": [
    "answers['12'] = 'Drama'\n",
    "# +\n",
    "# Уже стандартные подходы, но во втором вспомнил, что есть столбец \"profit\"\n",
    "\n",
    "# P.S. Ok. Буду знать."
   ]
  },
  {
   "cell_type": "markdown",
   "metadata": {},
   "source": [
    "ВАРИАНТ 1"
   ]
  },
  {
   "cell_type": "code",
   "execution_count": 38,
   "metadata": {},
   "outputs": [
    {
     "data": {
      "text/plain": [
       "'Drama'"
      ]
     },
     "execution_count": 38,
     "metadata": {},
     "output_type": "execute_result"
    }
   ],
   "source": [
    "# Ключевой момент: фильтрация и раскрытие столбца\n",
    "data[data.revenue > data.budget].genres.str.split('|').explode().value_counts().index[0]"
   ]
  },
  {
   "cell_type": "markdown",
   "metadata": {},
   "source": [
    "ВАРИАНТ 2"
   ]
  },
  {
   "cell_type": "code",
   "execution_count": 39,
   "metadata": {},
   "outputs": [
    {
     "data": {
      "text/plain": [
       "'Drama'"
      ]
     },
     "execution_count": 39,
     "metadata": {},
     "output_type": "execute_result"
    }
   ],
   "source": [
    "# Ключевой момент: фильтрация и раскрытие столбца\n",
    "data[data.profit > 0].genres.str.split('|').explode().value_counts().index[0]"
   ]
  },
  {
   "cell_type": "markdown",
   "metadata": {},
   "source": [
    "ВАРИАНТ 3"
   ]
  },
  {
   "cell_type": "code",
   "execution_count": 40,
   "metadata": {},
   "outputs": [
    {
     "data": {
      "text/plain": [
       "'Drama'"
      ]
     },
     "execution_count": 40,
     "metadata": {},
     "output_type": "execute_result"
    }
   ],
   "source": [
    "# Создаём DataFrame bb_data (сокр. blockbuster_data)\n",
    "bb_data = data.query('profit > 0').copy()\n",
    "\n",
    "# Преобразуем bb_data в Series, используя функции, split() и explode()\n",
    "bb_data = bb_data.genres.str.split('|').explode()\n",
    "\n",
    "# Создаём сумму по возрастанию и выводим первый элемент\n",
    "bb_data.value_counts().index[0]"
   ]
  },
  {
   "cell_type": "markdown",
   "metadata": {
    "colab_type": "text",
    "id": "0F23bgsDVp_U"
   },
   "source": [
    "# 13. У какого режиссера самые большие суммарные кассовые сборы?"
   ]
  },
  {
   "cell_type": "code",
   "execution_count": 41,
   "metadata": {
    "colab": {},
    "colab_type": "code",
    "id": "K6Z3J8ygVp_X"
   },
   "outputs": [],
   "source": [
    "answers['13'] = 'Peter Jackson'\n",
    "# +\n",
    "# Важно разбить столбец по режиссёрам с помощью str.split('|')\n",
    "# В первом варианте группируем по \"director\", а дальше выполняем стандартные\n",
    "# относительно столбца \"revenue\"\n",
    "# Во втором случае очень полезной оказалась сводная таблица и параметр axis\n",
    "# позволивший сделать суммирование по строкам\n",
    "\n",
    "# P.S. Чего только Властилин Колец стоит. В переводе Д.Пучкова веселей :)"
   ]
  },
  {
   "cell_type": "markdown",
   "metadata": {},
   "source": [
    "ВАРИАНТ 1"
   ]
  },
  {
   "cell_type": "code",
   "execution_count": 42,
   "metadata": {},
   "outputs": [
    {
     "data": {
      "text/plain": [
       "'Peter Jackson'"
      ]
     },
     "execution_count": 42,
     "metadata": {},
     "output_type": "execute_result"
    }
   ],
   "source": [
    "# Копируем данные\n",
    "director_data = data.copy()\n",
    "\n",
    "# Разбиваем содержимое столбца \"director\"\n",
    "director_data.director = director_data.director.str.split('|')\n",
    "\n",
    "# Раскрываем его\n",
    "director_data = director_data.explode('director')\n",
    "\n",
    "# Группируем, суммируем, сортируем\n",
    "director_data.groupby('director').revenue.sum().sort_values(ascending=False).index[0]"
   ]
  },
  {
   "cell_type": "markdown",
   "metadata": {},
   "source": [
    "ВАРИАНТ 2"
   ]
  },
  {
   "cell_type": "code",
   "execution_count": 43,
   "metadata": {},
   "outputs": [
    {
     "data": {
      "text/plain": [
       "'Peter Jackson'"
      ]
     },
     "execution_count": 43,
     "metadata": {},
     "output_type": "execute_result"
    }
   ],
   "source": [
    "# Копируем данные\n",
    "director_data = data.copy()\n",
    "\n",
    "# Разбиваем содержимое столбца \"director\"\n",
    "director_data.director = director_data.director.str.split('|')\n",
    "\n",
    "# Раскрываем его\n",
    "director_data = director_data.explode('director')\n",
    "\n",
    "# Создаём сводную таблицу: в строках ФИО, в столбцах идентификаторы фильмов, в качестве значений сборы\n",
    "director_pivot = director_data.pivot_table(index='director', columns='imdb_id', values='revenue', aggfunc='sum', fill_value=0)\n",
    "\n",
    "# Выбираем максимальную сумму по строкам\n",
    "director_pivot.sum(axis=1).idxmax()"
   ]
  },
  {
   "cell_type": "markdown",
   "metadata": {
    "colab_type": "text",
    "id": "PsYC9FgRVp_a"
   },
   "source": [
    "# 14. Какой режисер снял больше всего фильмов в стиле Action?"
   ]
  },
  {
   "cell_type": "code",
   "execution_count": 44,
   "metadata": {
    "colab": {},
    "colab_type": "code",
    "id": "wd2M-wHeVp_b"
   },
   "outputs": [],
   "source": [
    "answers['14'] = 'Robert Rodriguez'\n",
    "# +\n",
    "# Все 3 варианта дают идентичные ответы..\n",
    "# Даже если непосредственно отфильтровать по Бэю, то у него 7 картин\n",
    "# Но в силу того, что ни Бэя, ни Андерсона нет в вариантах ответа, то\n",
    "# выбираем какого-то Родригеса.\n",
    "\n",
    "# P.S. Согласен с комментарием в поле ответов - цифры говорят другое."
   ]
  },
  {
   "cell_type": "markdown",
   "metadata": {},
   "source": [
    "ВАРИАНТ 1"
   ]
  },
  {
   "cell_type": "code",
   "execution_count": 45,
   "metadata": {},
   "outputs": [
    {
     "data": {
      "text/plain": [
       "Michael Bay              7\n",
       "Paul W.S. Anderson       7\n",
       "Antoine Fuqua            6\n",
       "Robert Rodriguez         6\n",
       "Ridley Scott             6\n",
       "                        ..\n",
       "Tommy Wirkola            1\n",
       "Christian Alvart         1\n",
       "Sean McNamara            1\n",
       "Jay Russell              1\n",
       "Gina Prince-Bythewood    1\n",
       "Name: director, Length: 345, dtype: int64"
      ]
     },
     "execution_count": 45,
     "metadata": {},
     "output_type": "execute_result"
    }
   ],
   "source": [
    "# Ключевой момент: корректная фильтрация\n",
    "data[data.genres.str.contains('Action')].director.value_counts()"
   ]
  },
  {
   "cell_type": "markdown",
   "metadata": {},
   "source": [
    "ВАРИАНТ 2"
   ]
  },
  {
   "cell_type": "code",
   "execution_count": 46,
   "metadata": {},
   "outputs": [
    {
     "data": {
      "text/plain": [
       "director\n",
       "Michael Bay           7\n",
       "Paul W.S. Anderson    7\n",
       "Robert Rodriguez      6\n",
       "Ridley Scott          6\n",
       "Antoine Fuqua         6\n",
       "                     ..\n",
       "Les Mayfield          1\n",
       "Kurt Wimmer           1\n",
       "Kevin Smith           1\n",
       "Kevin Macdonald       1\n",
       "Adam McKay            1\n",
       "Length: 345, dtype: int64"
      ]
     },
     "execution_count": 46,
     "metadata": {},
     "output_type": "execute_result"
    }
   ],
   "source": [
    "# Создаём новый DataFrame\n",
    "action_data = data[data.genres.str.contains('Action')].copy()\n",
    "\n",
    "# Создаём сводную таблицу: в строках ФИО, в столбцах идентификаторы фильмов, в качестве значений сборы\n",
    "action_pivot = action_data.pivot_table(index='director', columns='imdb_id', values='genres', aggfunc='count', fill_value=0)\n",
    "#display(action_pivot)\n",
    "\n",
    "# Выбираем максимальную сумму по строкам\n",
    "action_pivot.sum(axis=1).sort_values(ascending=False)"
   ]
  },
  {
   "cell_type": "markdown",
   "metadata": {},
   "source": [
    "ВАРИАНТ 3"
   ]
  },
  {
   "cell_type": "code",
   "execution_count": 47,
   "metadata": {},
   "outputs": [
    {
     "data": {
      "text/plain": [
       "director\n",
       "Michael Bay           7\n",
       "Paul W.S. Anderson    7\n",
       "Robert Rodriguez      6\n",
       "Ridley Scott          6\n",
       "Antoine Fuqua         6\n",
       "                     ..\n",
       "Les Mayfield          1\n",
       "Kurt Wimmer           1\n",
       "Kevin Smith           1\n",
       "Kevin Macdonald       1\n",
       "Adam McKay            1\n",
       "Name: imdb_id, Length: 345, dtype: int64"
      ]
     },
     "execution_count": 47,
     "metadata": {},
     "output_type": "execute_result"
    }
   ],
   "source": [
    "# Ключевой момент: фильтрация, группировка и сортировка\n",
    "data[data.genres.str.contains('Action')].groupby(by='director').imdb_id.count().sort_values(ascending=False)"
   ]
  },
  {
   "cell_type": "markdown",
   "metadata": {
    "colab_type": "text",
    "id": "PQ0KciD7Vp_f"
   },
   "source": [
    "# 15. Фильмы с каким актером принесли самые высокие кассовые сборы в 2012 году? "
   ]
  },
  {
   "cell_type": "code",
   "execution_count": 48,
   "metadata": {
    "colab": {},
    "colab_type": "code",
    "id": "aga62oeKVp_g"
   },
   "outputs": [],
   "source": [
    "answers['15'] = 'Chris Hemsworth'\n",
    "# +\n",
    "# Первый вариант стандартным путём решался\n",
    "# Второй вариант с помощью сводной таблицы\n",
    "\n",
    "# P.S. Кто эти люди?.."
   ]
  },
  {
   "cell_type": "markdown",
   "metadata": {},
   "source": [
    "ВАРИАНТ 1"
   ]
  },
  {
   "cell_type": "code",
   "execution_count": 49,
   "metadata": {},
   "outputs": [
    {
     "data": {
      "text/plain": [
       "'Chris Hemsworth'"
      ]
     },
     "execution_count": 49,
     "metadata": {},
     "output_type": "execute_result"
    }
   ],
   "source": [
    "# Копируем DataFrame\n",
    "actor_data = data.copy()\n",
    "\n",
    "# Фильтруем\n",
    "actor_data = actor_data[actor_data.release_year == 2012]\n",
    "\n",
    "# Обновляем поле \"cast\", фильтруя и раскрывая его посредством функции explode()\n",
    "actor_data.cast = actor_data.cast.str.split('|')\n",
    "actor_data = actor_data.explode('cast')\n",
    "\n",
    "# Группируем по актёрам, суммируем по сборам и сортируем\n",
    "actor_data.groupby('cast').revenue.sum().sort_values(ascending=False).index[0]"
   ]
  },
  {
   "cell_type": "markdown",
   "metadata": {},
   "source": [
    "ВАРИАНТ 2"
   ]
  },
  {
   "cell_type": "code",
   "execution_count": 50,
   "metadata": {},
   "outputs": [
    {
     "data": {
      "text/plain": [
       "'Chris Hemsworth'"
      ]
     },
     "execution_count": 50,
     "metadata": {},
     "output_type": "execute_result"
    }
   ],
   "source": [
    "# Создаём копию исходного DataFrame\n",
    "best_actor = data.copy()\n",
    "\n",
    "# Обновляем поле \"cast\", фильтруя и раскрывая его посредством функции explode()\n",
    "best_actor.cast = data[data.release_year == 2012].cast.str.split('|')\n",
    "best_actor = best_actor.explode('cast')\n",
    "\n",
    "# Создаём сводную таблицу в качестве строк ФИО, в качестве столбцов идентификатор, в качестве значений сборы\n",
    "best_pivot = best_actor.pivot_table(index='cast', columns='imdb_id', values='revenue', fill_value=0)\n",
    "best_pivot.sum(axis=1).sort_values(ascending=False).index[0]"
   ]
  },
  {
   "cell_type": "markdown",
   "metadata": {
    "colab_type": "text",
    "id": "mWHyyL7QVp_j"
   },
   "source": [
    "# 16. Какой актер снялся в большем количестве высокобюджетных фильмов?"
   ]
  },
  {
   "cell_type": "code",
   "execution_count": 51,
   "metadata": {
    "colab": {},
    "colab_type": "code",
    "id": "qQtmHKTFVp_k"
   },
   "outputs": [],
   "source": [
    "answers['16'] = 'Matt Damon'\n",
    "# +\n",
    "# Использовался стандартный подход: фильтрация, модификация, эксплоуд..\n",
    "\n",
    "# P.S. Особенно понравился в Отступниках, ну и картошка на Марсе. Борн меньше)"
   ]
  },
  {
   "cell_type": "code",
   "execution_count": 52,
   "metadata": {},
   "outputs": [
    {
     "data": {
      "text/plain": [
       "'Matt Damon'"
      ]
     },
     "execution_count": 52,
     "metadata": {},
     "output_type": "execute_result"
    }
   ],
   "source": [
    "# Ключевой момент: фильтрация и раскрытие модифицированного столбца\n",
    "data[data.budget>data.budget.mean()]['cast'].str.split('|').explode().value_counts().index[0]"
   ]
  },
  {
   "cell_type": "markdown",
   "metadata": {
    "colab_type": "text",
    "id": "NIh6AaW5Vp_n"
   },
   "source": [
    "# 17. В фильмах какого жанра больше всего снимался Nicolas Cage? "
   ]
  },
  {
   "cell_type": "code",
   "execution_count": 53,
   "metadata": {
    "colab": {},
    "colab_type": "code",
    "id": "H74SJDIBVp_n"
   },
   "outputs": [],
   "source": [
    "answers['17'] = 'Action'\n",
    "# +\n",
    "# Использовался стандартный подход: фильтрация, модификация, эксплоуд..\n",
    "\n",
    "# P.S. Я не удивлён."
   ]
  },
  {
   "cell_type": "code",
   "execution_count": 54,
   "metadata": {},
   "outputs": [
    {
     "data": {
      "text/plain": [
       "'Action'"
      ]
     },
     "execution_count": 54,
     "metadata": {},
     "output_type": "execute_result"
    }
   ],
   "source": [
    "# Ключевой момент: фильтрация и раскрытие модифицированного столбца\n",
    "data[data.cast.str.contains('Nicolas Cage')]['genres'].str.split('|').explode().value_counts().index[0]"
   ]
  },
  {
   "cell_type": "markdown",
   "metadata": {
    "colab_type": "text",
    "id": "RqOmPRfWVp_q"
   },
   "source": [
    "# 18. Самый убыточный фильм от Paramount Pictures"
   ]
  },
  {
   "cell_type": "code",
   "execution_count": 55,
   "metadata": {
    "colab": {},
    "colab_type": "code",
    "id": "9E_B0Y96Vp_r"
   },
   "outputs": [],
   "source": [
    "answers['18'] = 'K-19: The Widowmaker'\n",
    "# +\n",
    "# Фильтрация, сортировка, ..\n",
    "# Люблю, когда в одну строчку\n",
    "\n",
    "# P.S. В целом достойно наших показали, но нудно."
   ]
  },
  {
   "cell_type": "code",
   "execution_count": 56,
   "metadata": {},
   "outputs": [
    {
     "data": {
      "text/plain": [
       "'K-19: The Widowmaker'"
      ]
     },
     "execution_count": 56,
     "metadata": {},
     "output_type": "execute_result"
    }
   ],
   "source": [
    "# Ключевой момент: фильтрация и сортировка\n",
    "data[data.production_companies.str.contains('Paramount Pictures')].sort_values(by='profit')['original_title'].iloc[0]"
   ]
  },
  {
   "cell_type": "markdown",
   "metadata": {
    "colab_type": "text",
    "id": "vS8Ur6ddVp_u"
   },
   "source": [
    "# 19. Какой год стал самым успешным по суммарным кассовым сборам?"
   ]
  },
  {
   "cell_type": "code",
   "execution_count": 57,
   "metadata": {},
   "outputs": [],
   "source": [
    "answers['19'] = 2015\n",
    "# +\n",
    "# Группировка, суммирование по сборам, сортировка\n",
    "\n",
    "# P.S. Спорить не буду"
   ]
  },
  {
   "cell_type": "code",
   "execution_count": 58,
   "metadata": {
    "colab": {},
    "colab_type": "code",
    "id": "Dnbt4GdIVp_v"
   },
   "outputs": [
    {
     "data": {
      "text/plain": [
       "2015"
      ]
     },
     "execution_count": 58,
     "metadata": {},
     "output_type": "execute_result"
    }
   ],
   "source": [
    "# Ключевой момент: группировка и сортировка\n",
    "data.groupby(by='release_year').revenue.sum().sort_values(ascending=False).index[0]"
   ]
  },
  {
   "cell_type": "markdown",
   "metadata": {
    "colab_type": "text",
    "id": "JAzJh4QAVp_z"
   },
   "source": [
    "# 20. Какой самый прибыльный год для студии Warner Bros?"
   ]
  },
  {
   "cell_type": "code",
   "execution_count": 59,
   "metadata": {
    "colab": {},
    "colab_type": "code",
    "id": "wgVu02DEVp_0"
   },
   "outputs": [],
   "source": [
    "answers['20'] = 2014\n",
    "# +\n",
    "# Фильтрация, группировка, суммирование по сборам, сортировка\n",
    "\n",
    "# P.S. Я не против"
   ]
  },
  {
   "cell_type": "code",
   "execution_count": 60,
   "metadata": {},
   "outputs": [
    {
     "data": {
      "text/plain": [
       "2014"
      ]
     },
     "execution_count": 60,
     "metadata": {},
     "output_type": "execute_result"
    }
   ],
   "source": [
    "# Ключевой момент: фильтрация, группировка и сортировка\n",
    "data[data.production_companies.str.contains('Warner Bros')].groupby(by='release_year').profit.sum().sort_values(ascending=False).index[0]"
   ]
  },
  {
   "cell_type": "markdown",
   "metadata": {
    "colab_type": "text",
    "id": "8Im1S2HRVp_4"
   },
   "source": [
    "# 21. В каком месяце за все годы суммарно вышло больше всего фильмов?"
   ]
  },
  {
   "cell_type": "code",
   "execution_count": 61,
   "metadata": {
    "colab": {},
    "colab_type": "code",
    "id": "lev6TH7gVp_4"
   },
   "outputs": [],
   "source": [
    "answers['21'] = 'September'\n",
    "# +\n",
    "# Используется преобразование для даты, затем выделяется месяц и value_counts()\n",
    "# Испльзую последовательно lambda функцию"
   ]
  },
  {
   "cell_type": "code",
   "execution_count": 62,
   "metadata": {},
   "outputs": [
    {
     "data": {
      "text/plain": [
       "'September'"
      ]
     },
     "execution_count": 62,
     "metadata": {},
     "output_type": "execute_result"
    }
   ],
   "source": [
    "# Ключевой момент: приведение к нужному формату данных\n",
    "data.release_date.apply(pd.to_datetime).apply(lambda x: x.strftime('%B')).value_counts().index[0]"
   ]
  },
  {
   "cell_type": "markdown",
   "metadata": {
    "colab_type": "text",
    "id": "uAJsZ_NeVp_7"
   },
   "source": [
    "# 22. Сколько суммарно вышло фильмов летом? (за июнь, июль, август)"
   ]
  },
  {
   "cell_type": "code",
   "execution_count": 63,
   "metadata": {
    "colab": {},
    "colab_type": "code",
    "id": "Aa-hEREoVp_8"
   },
   "outputs": [],
   "source": [
    "answers['22'] = 450\n",
    "# +\n",
    "# Фильтрация, дальше стандартная функция nunique()\n",
    "# Также использовалась полезная lambda функция\n",
    "\n",
    "# P.S. Почти четверть датасета. Полагаю всё поровну для всех времён года"
   ]
  },
  {
   "cell_type": "code",
   "execution_count": 64,
   "metadata": {},
   "outputs": [
    {
     "data": {
      "text/plain": [
       "450"
      ]
     },
     "execution_count": 64,
     "metadata": {},
     "output_type": "execute_result"
    }
   ],
   "source": [
    "# Ключевой момент: фильтрация с приведением к нужному формату данных\n",
    "data[data.release_date.apply(pd.to_datetime).apply(lambda x: x.strftime('%m') in ['06', '07', '08'])].imdb_id.nunique()"
   ]
  },
  {
   "cell_type": "markdown",
   "metadata": {
    "colab_type": "text",
    "id": "G94ppOY1VqAA"
   },
   "source": [
    "# 23. Для какого режиссера зима – самое продуктивное время года? "
   ]
  },
  {
   "cell_type": "code",
   "execution_count": 65,
   "metadata": {},
   "outputs": [],
   "source": [
    "answers['23'] = 'Peter Jackson'\n",
    "# +\n",
    "# В первом варианте использовался стандартный подход: фильтрация и value_counts()\n",
    "# Во втором и третьем - разные вариации на тему lambda функции\n",
    "\n",
    "# P.S. Спорный вопрос, он Юж. Зеландии, там зимой - лето :)"
   ]
  },
  {
   "cell_type": "markdown",
   "metadata": {},
   "source": [
    "ВАРИАНТ 1"
   ]
  },
  {
   "cell_type": "code",
   "execution_count": 66,
   "metadata": {
    "colab": {},
    "colab_type": "code",
    "id": "RhNTsamuVqAB"
   },
   "outputs": [
    {
     "data": {
      "text/plain": [
       "'Peter Jackson'"
      ]
     },
     "execution_count": 66,
     "metadata": {},
     "output_type": "execute_result"
    }
   ],
   "source": [
    "# Ключевой момент: фильтрация с приведением к нужному формату данных\n",
    "data[data.release_date.apply(pd.to_datetime).dt.month.isin([1, 2, 12,])].director.value_counts().index[0]"
   ]
  },
  {
   "cell_type": "markdown",
   "metadata": {},
   "source": [
    "ВАРИАНТ 2"
   ]
  },
  {
   "cell_type": "code",
   "execution_count": 67,
   "metadata": {},
   "outputs": [
    {
     "data": {
      "text/plain": [
       "'Peter Jackson'"
      ]
     },
     "execution_count": 67,
     "metadata": {},
     "output_type": "execute_result"
    }
   ],
   "source": [
    "# Ключевой момент: фильтрация с приведением к нужному формату данных\n",
    "data[data.release_date.apply(pd.to_datetime).apply(lambda x: x.strftime('%m') in ['01', '02', '12'])].director.value_counts().index[0]"
   ]
  },
  {
   "cell_type": "markdown",
   "metadata": {},
   "source": [
    "ВАРИАНТ 3"
   ]
  },
  {
   "cell_type": "code",
   "execution_count": 68,
   "metadata": {},
   "outputs": [
    {
     "data": {
      "text/plain": [
       "'Peter Jackson'"
      ]
     },
     "execution_count": 68,
     "metadata": {},
     "output_type": "execute_result"
    }
   ],
   "source": [
    "# Ключевой момент: фильтрация с приведением к нужному формату данных\n",
    "data[data.release_date.apply(pd.to_datetime).apply(lambda x: x.strftime('%B') in [\"December\", \"January\", \"February\"])].director.value_counts().index[0]"
   ]
  },
  {
   "cell_type": "markdown",
   "metadata": {
    "colab_type": "text",
    "id": "RBo0JVjVVqAF"
   },
   "source": [
    "# 24. Какая студия дает самые длинные названия своим фильмам по количеству символов?"
   ]
  },
  {
   "cell_type": "code",
   "execution_count": 69,
   "metadata": {
    "colab": {},
    "colab_type": "code",
    "id": "QRGS8L0iVqAG"
   },
   "outputs": [],
   "source": [
    "answers['24'] = 'Four By Two Productions'\n",
    "# +\n",
    "# Оставляем списко как есть, так как может быть несколько компаний, а в ответе одна\n",
    "\n",
    "# P.S. Что они хотя бы сняли?"
   ]
  },
  {
   "cell_type": "code",
   "execution_count": 70,
   "metadata": {
    "scrolled": true
   },
   "outputs": [
    {
     "data": {
      "text/plain": [
       "production_companies\n",
       "Four By Two Productions                   83\n",
       "Twentieth Century Fox Film Corporation    83\n",
       "Walden Media                              62\n",
       "Walt Disney                               62\n",
       "Jim Henson Company, The                   59\n",
       "                                          ..\n",
       "Everest Entertainment                      3\n",
       "Berlanti Productions                       3\n",
       "XM2 Productions                            2\n",
       "Global Entertainment Group                 2\n",
       "Ixtlan Productions                         2\n",
       "Name: original_title, Length: 1771, dtype: int64"
      ]
     },
     "execution_count": 70,
     "metadata": {},
     "output_type": "execute_result"
    }
   ],
   "source": [
    "# Копируем DataFrame\n",
    "studio_data = data.copy()\n",
    "\n",
    "# Модифицируем содержимое \"original_title\"\n",
    "studio_data.original_title = studio_data.original_title.str.len() # Считаем, что пробел тоже символ\n",
    "\n",
    "# Разбиваем и раскрываем по \"production_companies\"\n",
    "studio_data.production_companies = studio_data.production_companies.str.split('|')\n",
    "studio_data = studio_data.explode('production_companies')\n",
    "\n",
    "# Группируем по компаниям, выбираем максимумы и сортируем\n",
    "studio_data.groupby(by='production_companies').max().original_title.sort_values(ascending=False)"
   ]
  },
  {
   "cell_type": "markdown",
   "metadata": {
    "colab_type": "text",
    "id": "9G0hbvR7VqAK"
   },
   "source": [
    "# 25. Описание фильмов какой студии в среднем самые длинные по количеству слов?"
   ]
  },
  {
   "cell_type": "code",
   "execution_count": 71,
   "metadata": {
    "colab": {},
    "colab_type": "code",
    "id": "Ge2GsLNxVqAK"
   },
   "outputs": [],
   "source": [
    "answers['25'] = 'Midnight Picture Show'\n",
    "# +\n",
    "# Использовался стандартный подход с lambda функциями в первом варианте\n",
    "# Во втором - сводная таблица\n",
    "# Поскольку overview_data больше нигде не используется, решил оставить его в данной ячейке\n",
    "\n",
    "# P.S. Даже не слышал о такой"
   ]
  },
  {
   "cell_type": "markdown",
   "metadata": {},
   "source": [
    "ВАРИАНТ 1"
   ]
  },
  {
   "cell_type": "code",
   "execution_count": 72,
   "metadata": {},
   "outputs": [
    {
     "data": {
      "text/plain": [
       "'Midnight Picture Show'"
      ]
     },
     "execution_count": 72,
     "metadata": {},
     "output_type": "execute_result"
    }
   ],
   "source": [
    "# Копируем DataFrame\n",
    "word_data = data.copy()\n",
    "\n",
    "# Модифицируем содержимое \"overview\"\n",
    "word_data.overview = word_data.overview.apply(lambda x: len(x.split()))\n",
    "\n",
    "# Разбиваем и раскрываем по \"production_companies\"\n",
    "word_data.production_companies = word_data.production_companies.str.split('|')\n",
    "word_data = word_data.explode('production_companies')\n",
    "\n",
    "# Группируем по компаниям вычисляем среднее и выводим нужную компанию\n",
    "word_data.groupby(['production_companies'])['overview'].mean().idxmax()"
   ]
  },
  {
   "cell_type": "markdown",
   "metadata": {},
   "source": [
    "ВАРИАНТ 2"
   ]
  },
  {
   "cell_type": "code",
   "execution_count": 73,
   "metadata": {},
   "outputs": [
    {
     "data": {
      "text/plain": [
       "'Midnight Picture Show'"
      ]
     },
     "execution_count": 73,
     "metadata": {},
     "output_type": "execute_result"
    }
   ],
   "source": [
    "# Копируем DataFrame\n",
    "overview_data = data.copy()\n",
    "\n",
    "# Создаём столбец \"overview_len\"\n",
    "overview_data['overview_len'] = overview_data.overview.apply(lambda x:len(x.split(' ')))\n",
    "\n",
    "# Разбиваем и раскрываем по \"production_companies\"\n",
    "overview_data['production_companies'] = overview_data.production_companies.str.split('|')\n",
    "overview_data = overview_data.explode('production_companies')\n",
    "\n",
    "# Создаём сводную таблицу и сортируем по \"overview_len\"\n",
    "overview_data.pivot_table(['overview_len'],['production_companies'], aggfunc='mean').sort_values(by='overview_len', ascending=False).index[0]"
   ]
  },
  {
   "cell_type": "markdown",
   "metadata": {
    "colab_type": "text",
    "id": "FJ1AFt90VqAP"
   },
   "source": [
    "# 26. Какие фильмы входят в 1 процент лучших по рейтингу? \n",
    "по vote_average"
   ]
  },
  {
   "cell_type": "code",
   "execution_count": 74,
   "metadata": {
    "colab": {},
    "colab_type": "code",
    "id": "8qmJVq4CVqAQ"
   },
   "outputs": [],
   "source": [
    "answers['26'] = 'Inside Out, The Dark Knight, 12 Years a Slave'\n",
    "# +\n",
    "# Фильтрация, далее агрегирующая функция quantile()\n",
    "# Выбор ответа был обусловлен предложенными вариантами и полученной выборкой\n",
    "\n",
    "# P.S. Будет время посмотрю, может и Дарк Найта с субтитрами огорю"
   ]
  },
  {
   "cell_type": "code",
   "execution_count": 75,
   "metadata": {},
   "outputs": [
    {
     "data": {
      "text/plain": [
       "9                                          Inside Out\n",
       "34                                               Room\n",
       "118                                      Interstellar\n",
       "119                           Guardians of the Galaxy\n",
       "125                                The Imitation Game\n",
       "128                                         Gone Girl\n",
       "138                          The Grand Budapest Hotel\n",
       "370                                         Inception\n",
       "599                                   The Dark Knight\n",
       "872                                       The Pianist\n",
       "1081    The Lord of the Rings: The Return of the King\n",
       "1183                          The Wolf of Wall Street\n",
       "1191                                 12 Years a Slave\n",
       "1800                                          Memento\n",
       "Name: original_title, dtype: object"
      ]
     },
     "execution_count": 75,
     "metadata": {},
     "output_type": "execute_result"
    }
   ],
   "source": [
    "# Ключевой момент: фильтрация и функция quantile()\n",
    "data[data['vote_average'] > data['vote_average'].quantile(q=0.99)]['original_title']"
   ]
  },
  {
   "cell_type": "markdown",
   "metadata": {
    "colab_type": "text",
    "id": "MdXsUXbCVqAV"
   },
   "source": [
    "# 27. Какие актеры чаще всего снимаются в одном фильме вместе?\n"
   ]
  },
  {
   "cell_type": "code",
   "execution_count": 76,
   "metadata": {},
   "outputs": [],
   "source": [
    "answers['27'] = 'Daniel Radcliffe & Rupert Grint'\n",
    "# +\n",
    "# Используется библиотека itertools\n",
    "\n",
    "# Ключевой момент для решения задачи - предварительная сортировка по актёрам,\n",
    "# чтобы избежать получения ситуации, когда будут встречаться записи вроде\n",
    "# \"Л. Гурченко, Л. Куравлёв\" и \"Л. Куравлёв, Л. Гурченко\", что с точки зрения кода - \n",
    "# разные данные. Следовательно, дальнейшие вычисления будут ошибочными.\n",
    "\n",
    "# Вариант 1 предполагает модификацию поля, соответствующего актёрам, далее\n",
    "# сортировка актёров, затем создание пар, затем эксплоуд и подсчёт\n",
    "# В данном случае проведён трюк, где lambda функция неявно выполняет 2 действия:\n",
    "# lambda x: [x.sort(), list(itertools.combinations(x, 2))][1] - сначала сортирует,\n",
    "# а затем создаёт комбинации. На выход выдаёт элемент с индексом 1 - то что нужно!\n",
    "# Второй подход ничем не отличается от предыдущего, но в нём я решил использовать\n",
    "# хотя бы одну личную функцию на весь объём заданий.\n",
    "# Выбор ответа был обусловлен предложенными вариантами и полученной выборкой\n",
    "\n",
    "# P.S. Если не делать сортировку, то третье место займёт пара Rupert Grint+Emma Watson,\n",
    "#      которые снялись вместе \"почему-то\" (см. выше) только в 7 фильмах о Гарри Поттере..\n",
    "#      Но мы то знаем ;)"
   ]
  },
  {
   "cell_type": "markdown",
   "metadata": {},
   "source": [
    "ВАРИАНТ 1"
   ]
  },
  {
   "cell_type": "code",
   "execution_count": 77,
   "metadata": {},
   "outputs": [
    {
     "data": {
      "text/plain": [
       "(Daniel Radcliffe, Rupert Grint)       8\n",
       "(Emma Watson, Rupert Grint)            8\n",
       "(Daniel Radcliffe, Emma Watson)        8\n",
       "(Ben Stiller, Owen Wilson)             6\n",
       "(Helena Bonham Carter, Johnny Depp)    6\n",
       "                                      ..\n",
       "(Jason Statham, Miranda Hart)          1\n",
       "(Dustin Hoffman, Freddie Highmore)     1\n",
       "(Dustin Milligan, Joel David Moore)    1\n",
       "(Gena Rowlands, James Garner)          1\n",
       "(Eddie Murphy, Jennifer Hudson)        1\n",
       "Name: cast, Length: 17943, dtype: int64"
      ]
     },
     "execution_count": 77,
     "metadata": {},
     "output_type": "execute_result"
    }
   ],
   "source": [
    "# Ключевой момент: корректная сортировка по актёрам и раскрытие модифицированного столбца\n",
    "data.cast.str.split('|').apply(lambda x: [x.sort(), list(itertools.combinations(x, 2))][1]).explode().value_counts()"
   ]
  },
  {
   "cell_type": "markdown",
   "metadata": {},
   "source": [
    "ВАРИАНТ 2"
   ]
  },
  {
   "cell_type": "code",
   "execution_count": 78,
   "metadata": {
    "scrolled": false
   },
   "outputs": [
    {
     "data": {
      "text/plain": [
       "(Daniel Radcliffe, Rupert Grint)       8\n",
       "(Emma Watson, Rupert Grint)            8\n",
       "(Daniel Radcliffe, Emma Watson)        8\n",
       "(Ben Stiller, Owen Wilson)             6\n",
       "(Helena Bonham Carter, Johnny Depp)    6\n",
       "                                      ..\n",
       "(Jason Statham, Miranda Hart)          1\n",
       "(Dustin Hoffman, Freddie Highmore)     1\n",
       "(Dustin Milligan, Joel David Moore)    1\n",
       "(Gena Rowlands, James Garner)          1\n",
       "(Eddie Murphy, Jennifer Hudson)        1\n",
       "Name: cast, Length: 17943, dtype: int64"
      ]
     },
     "execution_count": 78,
     "metadata": {},
     "output_type": "execute_result"
    }
   ],
   "source": [
    "# Ключевой момент: корректная сортировка по актёрам и раскрытие модифицированного столбца\n",
    "data.cast.str.split('|').apply(my_sort).apply(lambda x: list(itertools.combinations(x, 2))).explode().value_counts()"
   ]
  },
  {
   "cell_type": "markdown",
   "metadata": {
    "colab_type": "text",
    "id": "U0nONFnGVqAX"
   },
   "source": [
    "# Submission"
   ]
  },
  {
   "cell_type": "code",
   "execution_count": 79,
   "metadata": {
    "colab": {},
    "colab_type": "code",
    "id": "IfcaRO9-VqAX",
    "outputId": "0f132912-32bb-4196-c98c-abfbc4ad5a5f"
   },
   "outputs": [
    {
     "data": {
      "text/plain": [
       "{'1': 'Pirates of the Caribbean: On Stranger Tides (tt1298650)',\n",
       " '2': 'Gods and Generals (tt0279111)',\n",
       " '3': 'Winnie the Pooh (tt1449283)',\n",
       " '4': 110,\n",
       " '5': 107,\n",
       " '6': 'Avatar (tt0499549)',\n",
       " '7': 'The Lone Ranger (tt1210819)',\n",
       " '8': 1478,\n",
       " '9': 'The Dark Knight (tt0468569)',\n",
       " '10': 'The Lone Ranger',\n",
       " '11': 'Drama',\n",
       " '12': 'Drama',\n",
       " '13': 'Peter Jackson',\n",
       " '14': 'Robert Rodriguez',\n",
       " '15': 'Chris Hemsworth',\n",
       " '16': 'Matt Damon',\n",
       " '17': 'Action',\n",
       " '18': 'K-19: The Widowmaker',\n",
       " '19': 2015,\n",
       " '20': 2014,\n",
       " '21': 'September',\n",
       " '22': 450,\n",
       " '23': 'Peter Jackson',\n",
       " '24': 'Four By Two Productions',\n",
       " '25': 'Midnight Picture Show',\n",
       " '26': 'Inside Out, The Dark Knight, 12 Years a Slave',\n",
       " '27': 'Daniel Radcliffe & Rupert Grint'}"
      ]
     },
     "execution_count": 79,
     "metadata": {},
     "output_type": "execute_result"
    }
   ],
   "source": [
    "# В конце проверяю свои ответы к каждому вопросу\n",
    "answers"
   ]
  },
  {
   "cell_type": "code",
   "execution_count": 80,
   "metadata": {
    "colab": {},
    "colab_type": "code",
    "id": "SiRmHPl8VqAd"
   },
   "outputs": [
    {
     "data": {
      "text/plain": [
       "27"
      ]
     },
     "execution_count": 80,
     "metadata": {},
     "output_type": "execute_result"
    }
   ],
   "source": [
    "# Чтобы убедиться, что ничего не пропустил\n",
    "len(answers)"
   ]
  },
  {
   "cell_type": "markdown",
   "metadata": {
    "colab": {},
    "colab_type": "code",
    "id": "uCfuTkRbVqAg"
   },
   "source": [
    "## В целом считаю, что решил все задания, используя стандартные возможности Python&Pandas. Одна функция не в счёт, так как я внёс её умышленно, чтоб была :)"
   ]
  },
  {
   "cell_type": "markdown",
   "metadata": {},
   "source": [
    "## Спасибо за Внимание!"
   ]
  }
 ],
 "metadata": {
  "colab": {
   "name": "Copy of [SF-DST] Movies IMBD v4.1 TEMPLATE.ipynb",
   "provenance": []
  },
  "kernelspec": {
   "display_name": "Python 3",
   "language": "python",
   "name": "python3"
  },
  "language_info": {
   "codemirror_mode": {
    "name": "ipython",
    "version": 3
   },
   "file_extension": ".py",
   "mimetype": "text/x-python",
   "name": "python",
   "nbconvert_exporter": "python",
   "pygments_lexer": "ipython3",
   "version": "3.8.5"
  }
 },
 "nbformat": 4,
 "nbformat_minor": 1
}
